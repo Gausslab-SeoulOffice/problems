{
 "cells": [
  {
   "cell_type": "markdown",
   "id": "1b5b8295-15c5-4c6e-b669-32d477cc52a0",
   "metadata": {},
   "source": [
    "# 점심시간 마다 1문제씩!\n",
    "- 나동빈의 <<이것이 취업을 위한 코딩 테스트다 with Python>>\n",
    "- 사놓고 거의 안봐서 점심이나 쉴 때 한 번씩 풉니다~"
   ]
  },
  {
   "cell_type": "markdown",
   "id": "8d36bf9d-3ae4-47fc-b75b-28e1e38f0049",
   "metadata": {},
   "source": [
    "## 큰 수 법칙(p.92)\n",
    "--- \n",
    "### 문제\n",
    "다양한 수로 이뤄진 배열이 있을 때 주어진 수들을 M번 더하여 가장 큰 수를 만드는 법칙이다 단, 배열의 특정한 인덱스에 해당하는 수가 연속해서 K번을 초과하여 더해질 수 없는 것이 특징이다\n",
    "### 예시\n",
    "- Input <br>5 8 3 <br>\n",
    "2 4 5 4 6\n",
    "- Output<br>46\n",
    "\n"
   ]
  },
  {
   "cell_type": "code",
   "execution_count": 18,
   "id": "2674be69-157e-4eb9-bd40-dd75601e3b84",
   "metadata": {},
   "outputs": [
    {
     "name": "stdin",
     "output_type": "stream",
     "text": [
      " 5 7 2\n",
      " 3 4 3 4 3\n"
     ]
    },
    {
     "name": "stdout",
     "output_type": "stream",
     "text": [
      "4 +\n",
      "4 +\n",
      "middle  4 +\n",
      "4 +\n",
      "4 +\n",
      "middle  4 +\n",
      "4 +\n",
      "28\n"
     ]
    }
   ],
   "source": [
    "import sys, math\n",
    "\n",
    "# n: 더해질 수의 개수 m: 더하는 횟수 k: 최대 더할 수 있는 횟수\n",
    "n, m, k = map(int, input().split())\n",
    "num_list = input().split()\n",
    "\n",
    "num_list = [int(x) for x in num_list]\n",
    "num_list.sort(reverse=True)\n",
    "\n",
    "result = 0\n",
    "k_counter = 0\n",
    "\n",
    "\n",
    "for i in range(m):\n",
    "    if(k_counter == k):\n",
    "        k_counter = 0\n",
    "        result += num_list[1]\n",
    "        continue\n",
    "    result += num_list[0]\n",
    "    k_counter+=1\n",
    "print(result)\n"
   ]
  },
  {
   "cell_type": "code",
   "execution_count": null,
   "id": "39f90bef-fe22-47fb-8129-3c15eaf148cc",
   "metadata": {},
   "outputs": [],
   "source": []
  }
 ],
 "metadata": {
  "kernelspec": {
   "display_name": "Python 3 (ipykernel)",
   "language": "python",
   "name": "python3"
  },
  "language_info": {
   "codemirror_mode": {
    "name": "ipython",
    "version": 3
   },
   "file_extension": ".py",
   "mimetype": "text/x-python",
   "name": "python",
   "nbconvert_exporter": "python",
   "pygments_lexer": "ipython3",
   "version": "3.10.12"
  }
 },
 "nbformat": 4,
 "nbformat_minor": 5
}
