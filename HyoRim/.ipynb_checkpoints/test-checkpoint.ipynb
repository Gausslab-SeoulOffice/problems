{
 "cells": [
  {
   "cell_type": "code",
   "execution_count": 1,
   "id": "33506994-b6d3-4255-baf6-6d8b27cc2969",
   "metadata": {},
   "outputs": [],
   "source": [
    "# stagy test"
   ]
  },
  {
   "cell_type": "code",
   "execution_count": 2,
   "id": "1b7afeaa-6d66-4cfb-9cf9-28b9f5f58239",
   "metadata": {},
   "outputs": [],
   "source": [
    "import math\n"
   ]
  },
  {
   "cell_type": "code",
   "execution_count": 3,
   "id": "b58a090f-2d25-4672-bfa9-6c6e94891ce7",
   "metadata": {},
   "outputs": [
    {
     "name": "stdout",
     "output_type": "stream",
     "text": [
      "test\n"
     ]
    }
   ],
   "source": [
    "print(\"test\")"
   ]
  },
  {
   "cell_type": "code",
   "execution_count": null,
   "id": "cd4b3dc5-02d8-41a5-a3c5-f8f5010c73a8",
   "metadata": {},
   "outputs": [],
   "source": []
  }
 ],
 "metadata": {
  "kernelspec": {
   "display_name": "Python 3 (ipykernel)",
   "language": "python",
   "name": "python3"
  },
  "language_info": {
   "codemirror_mode": {
    "name": "ipython",
    "version": 3
   },
   "file_extension": ".py",
   "mimetype": "text/x-python",
   "name": "python",
   "nbconvert_exporter": "python",
   "pygments_lexer": "ipython3",
   "version": "3.10.12"
  }
 },
 "nbformat": 4,
 "nbformat_minor": 5
}
